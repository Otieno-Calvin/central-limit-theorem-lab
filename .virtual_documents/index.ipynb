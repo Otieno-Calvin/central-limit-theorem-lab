





import pandas as pd
import numpy as np
import matplotlib.pyplot as plt
%matplotlib inline
import seaborn as sns
import scipy.stats as st
np.random.seed(0) #set a random seed for reproducibility





# Your code here

data = pd.read_csv('non_normal_dataset.csv', squeeze=True)
data






# Your code here
sns.distplot(data, hist=True, kde=True, 
             bins=int(180/5), color = 'darkblue', 
             hist_kws={'edgecolor':'black'},
             kde_kws={'linewidth': 4})






# Your code here

statistic = st.normaltest(data)
statistic










def get_sample(data, n, seed):
    #Adding random seed for reproducibility
    np.random.seed(seed)   
    return np.random.choice(data ,size =n ,replace=True)


test_sample = get_sample(data, 30, 0)
print(test_sample[:5]) 
# [56, 12, 73, 24, 8] (This will change if you run it multiple times)





def get_sample_mean(sample):
    
    # Your code here
    return sum(sample)/len(sample)

test_sample2 = get_sample(data, 30, 0)
test_sample2_mean = get_sample_mean(test_sample2)
print(test_sample2_mean) 
# 32.733333333333334





def create_sample_distribution(data, dist_size=100, n=30 , seed = 0):
    sample_means = []
    for _ in range(dist_size):
        sample = get_sample(data , n ,seed )
        sample_means.append(get_sample_mean(sample))
        seed += 1
    
    return np.array(sample_means)
    
test_sample_dist = create_sample_distribution(data)
print(test_sample_dist[:5]) 

# If you set your seed to start at zero and iterate by 1 each sample you should get:
# [32.733333333333334, 54.266666666666666, 50.7, 36.53333333333333, 40.0]





# Your code here
dist = create_sample_distribution(data,10,3)
sns.distplot(dist, hist=True, kde=True, 
             bins=40, color = 'darkblue', 
             hist_kws={'edgecolor':'black'},
             kde_kws={'linewidth': 4})





# Your code here
dist = create_sample_distribution(data,30,10)
sns.distplot(dist, hist=True, kde=True, 
             bins=40, color = 'darkblue', 
             hist_kws={'edgecolor':'black'},
             kde_kws={'linewidth': 4})





# Your code here
dist = create_sample_distribution(data,1000,30)
sns.distplot(dist, hist=True, kde=True, 
             bins=40, color = 'darkblue', 
             hist_kws={'edgecolor':'black'},
             kde_kws={'linewidth': 4})






